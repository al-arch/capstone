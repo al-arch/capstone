{
    "cells": [
        {
            "metadata": {
                "collapsed": true
            },
            "cell_type": "markdown",
            "source": "This notebook is going to be used mainly for the capstone project for the IBM professional certificate of Data Science"
        },
        {
            "metadata": {},
            "cell_type": "markdown",
            "source": "# Importing Libs:"
        },
        {
            "metadata": {},
            "cell_type": "code",
            "source": "import itertools\nimport numpy as np\nimport matplotlib.pyplot as plt\nfrom matplotlib.ticker import NullFormatter\nimport pandas as pd\nimport numpy as np\nimport matplotlib.ticker as ticker\nfrom sklearn import preprocessing\n%matplotlib inline\nfrom scipy import stats",
            "execution_count": 1,
            "outputs": []
        },
        {
            "metadata": {},
            "cell_type": "markdown",
            "source": "# Downloading Dataset:"
        },
        {
            "metadata": {},
            "cell_type": "code",
            "source": "# DataSet is the \"example dataset\" provided by the course itself\ndf = pd.read_csv(\"https://s3.us.cloud-object-storage.appdomain.cloud/cf-courses-data/CognitiveClass/DP0701EN/version-2/Data-Collisions.csv\", low_memory=False)\ndf.shape",
            "execution_count": 5,
            "outputs": [
                {
                    "output_type": "execute_result",
                    "execution_count": 5,
                    "data": {
                        "text/plain": "(194673, 38)"
                    },
                    "metadata": {}
                }
            ]
        },
        {
            "metadata": {},
            "cell_type": "markdown",
            "source": "# Garbage in Garbage out: (Reducing human behavior impact):"
        },
        {
            "metadata": {},
            "cell_type": "code",
            "source": "# Dropping data where drivers are drunk\ndf['UNDERINFL'].replace(to_replace=['N','Y'], value=['0','1'],inplace=True)\nUnderinfl=df[df['UNDERINFL']=='1'].index\ndf.drop(Underinfl,axis=0, inplace=True)\n# Dropping data where drivers are inattentive\ninattentiond=df[df['INATTENTIONIND']=='Y'].index\ndf.drop(inattentiond,axis=0, inplace=True)\n# Dropping NAN in Weather & Light condition & Road Condition\ndf.dropna(subset=['WEATHER','ROADCOND','LIGHTCOND'], axis=0, inplace=True)\ndf.shape",
            "execution_count": 6,
            "outputs": [
                {
                    "output_type": "execute_result",
                    "execution_count": 6,
                    "data": {
                        "text/plain": "(151523, 38)"
                    },
                    "metadata": {}
                }
            ]
        },
        {
            "metadata": {
                "scrolled": true
            },
            "cell_type": "code",
            "source": "# Dropping \"Unknown\" + \"Other\" records in Weather & Light condition & Road Condition\nWeather1= df[df['WEATHER']=='Unknown'].index\nWeather2= df[df['WEATHER']=='Other'].index\ndf.drop(Weather1,axis=0, inplace=True)\ndf.drop(Weather2,axis=0, inplace=True)\nlight1= df[df['LIGHTCOND']=='Unknown'].index\nlight2= df[df['LIGHTCOND']=='Other'].index\ndf.drop(light1,axis=0, inplace=True)\ndf.drop(light2,axis=0, inplace=True)\nroad1= df[df['ROADCOND']=='Unknown'].index\nroad2= df[df['ROADCOND']=='Other'].index\ndf.drop(road1,axis=0, inplace=True)\ndf.drop(road2,axis=0, inplace=True)\ndf.shape",
            "execution_count": 7,
            "outputs": [
                {
                    "output_type": "execute_result",
                    "execution_count": 7,
                    "data": {
                        "text/plain": "(133408, 38)"
                    },
                    "metadata": {}
                }
            ]
        },
        {
            "metadata": {},
            "cell_type": "code",
            "source": "df.head()",
            "execution_count": 75,
            "outputs": [
                {
                    "output_type": "execute_result",
                    "execution_count": 75,
                    "data": {
                        "text/plain": "   SEVERITYCODE           X          Y  OBJECTID  INCKEY  COLDETKEY REPORTNO  \\\n0             2 -122.323148  47.703140         1    1307       1307  3502005   \n1             1 -122.347294  47.647172         2   52200      52200  2607959   \n2             1 -122.334540  47.607871         3   26700      26700  1482393   \n3             1 -122.334803  47.604803         4    1144       1144  3503937   \n4             2 -122.306426  47.545739         5   17700      17700  1807429   \n\n    STATUS      ADDRTYPE   INTKEY  ... ROADCOND                LIGHTCOND  \\\n0  Matched  Intersection  37475.0  ...      Wet                 Daylight   \n1  Matched         Block      NaN  ...      Wet  Dark - Street Lights On   \n2  Matched         Block      NaN  ...      Dry                 Daylight   \n3  Matched         Block      NaN  ...      Dry                 Daylight   \n4  Matched  Intersection  34387.0  ...      Wet                 Daylight   \n\n  PEDROWNOTGRNT  SDOTCOLNUM SPEEDING ST_COLCODE  \\\n0           NaN         NaN      NaN         10   \n1           NaN   6354039.0      NaN         11   \n2           NaN   4323031.0      NaN         32   \n3           NaN         NaN      NaN         23   \n4           NaN   4028032.0      NaN         10   \n\n                                          ST_COLDESC  SEGLANEKEY  \\\n0                                  Entering at angle           0   \n1  From same direction - both going straight - bo...           0   \n2                             One parked--one moving           0   \n3                   From same direction - all others           0   \n4                                  Entering at angle           0   \n\n   CROSSWALKKEY  HITPARKEDCAR  \n0             0             N  \n1             0             N  \n2             0             N  \n3             0             N  \n4             0             N  \n\n[5 rows x 38 columns]",
                        "text/html": "<div>\n<style scoped>\n    .dataframe tbody tr th:only-of-type {\n        vertical-align: middle;\n    }\n\n    .dataframe tbody tr th {\n        vertical-align: top;\n    }\n\n    .dataframe thead th {\n        text-align: right;\n    }\n</style>\n<table border=\"1\" class=\"dataframe\">\n  <thead>\n    <tr style=\"text-align: right;\">\n      <th></th>\n      <th>SEVERITYCODE</th>\n      <th>X</th>\n      <th>Y</th>\n      <th>OBJECTID</th>\n      <th>INCKEY</th>\n      <th>COLDETKEY</th>\n      <th>REPORTNO</th>\n      <th>STATUS</th>\n      <th>ADDRTYPE</th>\n      <th>INTKEY</th>\n      <th>...</th>\n      <th>ROADCOND</th>\n      <th>LIGHTCOND</th>\n      <th>PEDROWNOTGRNT</th>\n      <th>SDOTCOLNUM</th>\n      <th>SPEEDING</th>\n      <th>ST_COLCODE</th>\n      <th>ST_COLDESC</th>\n      <th>SEGLANEKEY</th>\n      <th>CROSSWALKKEY</th>\n      <th>HITPARKEDCAR</th>\n    </tr>\n  </thead>\n  <tbody>\n    <tr>\n      <th>0</th>\n      <td>2</td>\n      <td>-122.323148</td>\n      <td>47.703140</td>\n      <td>1</td>\n      <td>1307</td>\n      <td>1307</td>\n      <td>3502005</td>\n      <td>Matched</td>\n      <td>Intersection</td>\n      <td>37475.0</td>\n      <td>...</td>\n      <td>Wet</td>\n      <td>Daylight</td>\n      <td>NaN</td>\n      <td>NaN</td>\n      <td>NaN</td>\n      <td>10</td>\n      <td>Entering at angle</td>\n      <td>0</td>\n      <td>0</td>\n      <td>N</td>\n    </tr>\n    <tr>\n      <th>1</th>\n      <td>1</td>\n      <td>-122.347294</td>\n      <td>47.647172</td>\n      <td>2</td>\n      <td>52200</td>\n      <td>52200</td>\n      <td>2607959</td>\n      <td>Matched</td>\n      <td>Block</td>\n      <td>NaN</td>\n      <td>...</td>\n      <td>Wet</td>\n      <td>Dark - Street Lights On</td>\n      <td>NaN</td>\n      <td>6354039.0</td>\n      <td>NaN</td>\n      <td>11</td>\n      <td>From same direction - both going straight - bo...</td>\n      <td>0</td>\n      <td>0</td>\n      <td>N</td>\n    </tr>\n    <tr>\n      <th>2</th>\n      <td>1</td>\n      <td>-122.334540</td>\n      <td>47.607871</td>\n      <td>3</td>\n      <td>26700</td>\n      <td>26700</td>\n      <td>1482393</td>\n      <td>Matched</td>\n      <td>Block</td>\n      <td>NaN</td>\n      <td>...</td>\n      <td>Dry</td>\n      <td>Daylight</td>\n      <td>NaN</td>\n      <td>4323031.0</td>\n      <td>NaN</td>\n      <td>32</td>\n      <td>One parked--one moving</td>\n      <td>0</td>\n      <td>0</td>\n      <td>N</td>\n    </tr>\n    <tr>\n      <th>3</th>\n      <td>1</td>\n      <td>-122.334803</td>\n      <td>47.604803</td>\n      <td>4</td>\n      <td>1144</td>\n      <td>1144</td>\n      <td>3503937</td>\n      <td>Matched</td>\n      <td>Block</td>\n      <td>NaN</td>\n      <td>...</td>\n      <td>Dry</td>\n      <td>Daylight</td>\n      <td>NaN</td>\n      <td>NaN</td>\n      <td>NaN</td>\n      <td>23</td>\n      <td>From same direction - all others</td>\n      <td>0</td>\n      <td>0</td>\n      <td>N</td>\n    </tr>\n    <tr>\n      <th>4</th>\n      <td>2</td>\n      <td>-122.306426</td>\n      <td>47.545739</td>\n      <td>5</td>\n      <td>17700</td>\n      <td>17700</td>\n      <td>1807429</td>\n      <td>Matched</td>\n      <td>Intersection</td>\n      <td>34387.0</td>\n      <td>...</td>\n      <td>Wet</td>\n      <td>Daylight</td>\n      <td>NaN</td>\n      <td>4028032.0</td>\n      <td>NaN</td>\n      <td>10</td>\n      <td>Entering at angle</td>\n      <td>0</td>\n      <td>0</td>\n      <td>N</td>\n    </tr>\n  </tbody>\n</table>\n<p>5 rows \u00d7 38 columns</p>\n</div>"
                    },
                    "metadata": {}
                }
            ]
        },
        {
            "metadata": {},
            "cell_type": "code",
            "source": "X = pd.get_dummies(df[['WEATHER','ROADCOND','LIGHTCOND']]).astype(float)\ny = df['SEVERITYCODE'].values",
            "execution_count": 5,
            "outputs": []
        },
        {
            "metadata": {},
            "cell_type": "code",
            "source": "X= preprocessing.StandardScaler().fit(X).transform(X)",
            "execution_count": 45,
            "outputs": []
        },
        {
            "metadata": {},
            "cell_type": "code",
            "source": "from sklearn.model_selection import train_test_split\nX_train, X_test, y_train, y_test = train_test_split(X, y, test_size=0.2, random_state=4)\nprint ('Train set:', X_train.shape,  y_train.shape)\nprint ('Test set:', X_test.shape,  y_test.shape)",
            "execution_count": 23,
            "outputs": [
                {
                    "output_type": "stream",
                    "text": "Train set: (106726, 23) (106726,)\nTest set: (26682, 23) (26682,)\n",
                    "name": "stdout"
                }
            ]
        },
        {
            "metadata": {},
            "cell_type": "markdown",
            "source": "# K-Nearest-Neighbor Classifier:"
        },
        {
            "metadata": {
                "scrolled": true
            },
            "cell_type": "code",
            "source": "from sklearn.neighbors import KNeighborsClassifier\nk = 3\nkNN_model = KNeighborsClassifier(n_neighbors=k).fit(X_train,y_train)\nkNN_model",
            "execution_count": 24,
            "outputs": [
                {
                    "output_type": "execute_result",
                    "execution_count": 24,
                    "data": {
                        "text/plain": "KNeighborsClassifier(algorithm='auto', leaf_size=30, metric='minkowski',\n           metric_params=None, n_jobs=None, n_neighbors=3, p=2,\n           weights='uniform')"
                    },
                    "metadata": {}
                }
            ]
        },
        {
            "metadata": {},
            "cell_type": "code",
            "source": "KNNyhat = kNN_model.predict(X_test)\nKNNyhat[0:5]",
            "execution_count": 25,
            "outputs": [
                {
                    "output_type": "execute_result",
                    "execution_count": 25,
                    "data": {
                        "text/plain": "array([2, 2, 2, 1, 1])"
                    },
                    "metadata": {}
                }
            ]
        },
        {
            "metadata": {},
            "cell_type": "code",
            "source": "Ks=10\nmean_acc=np.zeros((Ks-1))\nstd_acc=np.zeros((Ks-1))\nConfustionMx=[];\nfor n in range(1,Ks):\n    kNN_model = KNeighborsClassifier(n_neighbors=n).fit(X_train,y_train)\n    yhat = kNN_model.predict(X_test)\n    \n    \n    mean_acc[n-1]=np.mean(yhat==y_test);\n    \n    std_acc[n-1]=np.std(yhat==y_test)/np.sqrt(yhat.shape[0])\n    \nmean_acc\nprint( \"The best accuracy was with\", mean_acc.max(), \"with k=\", mean_acc.argmax()+1) ",
            "execution_count": 27,
            "outputs": [
                {
                    "output_type": "stream",
                    "text": "The best accuracy was with 0.6856307623116707 with k= 8\n",
                    "name": "stdout"
                }
            ]
        },
        {
            "metadata": {},
            "cell_type": "code",
            "source": "from sklearn.neighbors import KNeighborsClassifier\nk = 8\nkNN_model = KNeighborsClassifier(n_neighbors=k).fit(X_train,y_train)\nKNNyhat = kNN_model.predict(X_test)\nKNNyhat[0:5]",
            "execution_count": 28,
            "outputs": [
                {
                    "output_type": "execute_result",
                    "execution_count": 28,
                    "data": {
                        "text/plain": "array([1, 1, 1, 1, 1])"
                    },
                    "metadata": {}
                }
            ]
        },
        {
            "metadata": {},
            "cell_type": "markdown",
            "source": " # Decision-Tree Classifier:"
        },
        {
            "metadata": {},
            "cell_type": "code",
            "source": "from sklearn.tree import DecisionTreeClassifier\nDecTree = DecisionTreeClassifier(criterion=\"entropy\", max_depth = 4)\nDecTree.fit(X_train,y_train)\nDecTree",
            "execution_count": 29,
            "outputs": [
                {
                    "output_type": "execute_result",
                    "execution_count": 29,
                    "data": {
                        "text/plain": "DecisionTreeClassifier(class_weight=None, criterion='entropy', max_depth=4,\n            max_features=None, max_leaf_nodes=None,\n            min_impurity_decrease=0.0, min_impurity_split=None,\n            min_samples_leaf=1, min_samples_split=2,\n            min_weight_fraction_leaf=0.0, presort=False, random_state=None,\n            splitter='best')"
                    },
                    "metadata": {}
                }
            ]
        },
        {
            "metadata": {},
            "cell_type": "code",
            "source": "DETyhat = DecTree.predict(X_test)\nDETyhat[0:5]",
            "execution_count": 30,
            "outputs": [
                {
                    "output_type": "execute_result",
                    "execution_count": 30,
                    "data": {
                        "text/plain": "array([1, 1, 1, 1, 1])"
                    },
                    "metadata": {}
                }
            ]
        },
        {
            "metadata": {},
            "cell_type": "code",
            "source": "from sklearn import metrics\nprint(\"DecisionTrees's Accuracy: \", metrics.accuracy_score(y_test, DETyhat))",
            "execution_count": 31,
            "outputs": [
                {
                    "output_type": "stream",
                    "text": "DecisionTrees's Accuracy:  0.6860430252604752\n",
                    "name": "stdout"
                }
            ]
        },
        {
            "metadata": {},
            "cell_type": "markdown",
            "source": "# SVM Classifier:"
        },
        {
            "metadata": {},
            "cell_type": "code",
            "source": "from sklearn import svm\nSVM = svm.SVC(gamma='scale')\nSVM.fit(X_train, y_train) ",
            "execution_count": 33,
            "outputs": [
                {
                    "output_type": "execute_result",
                    "execution_count": 33,
                    "data": {
                        "text/plain": "SVC(C=1.0, cache_size=200, class_weight=None, coef0=0.0,\n  decision_function_shape='ovr', degree=3, gamma='scale', kernel='rbf',\n  max_iter=-1, probability=False, random_state=None, shrinking=True,\n  tol=0.001, verbose=False)"
                    },
                    "metadata": {}
                }
            ]
        },
        {
            "metadata": {},
            "cell_type": "code",
            "source": "SVMyhat = SVM.predict(X_test)\nSVMyhat",
            "execution_count": 35,
            "outputs": [
                {
                    "output_type": "execute_result",
                    "execution_count": 35,
                    "data": {
                        "text/plain": "array([1, 1, 1, ..., 1, 1, 1])"
                    },
                    "metadata": {}
                }
            ]
        },
        {
            "metadata": {},
            "cell_type": "markdown",
            "source": "# Logistic-Regression Classifier:"
        },
        {
            "metadata": {},
            "cell_type": "code",
            "source": "from sklearn.linear_model import LogisticRegression\nLR = LogisticRegression(C=0.01,solver='lbfgs').fit(X_train,y_train)\nLR",
            "execution_count": 36,
            "outputs": [
                {
                    "output_type": "execute_result",
                    "execution_count": 36,
                    "data": {
                        "text/plain": "LogisticRegression(C=0.01, class_weight=None, dual=False, fit_intercept=True,\n          intercept_scaling=1, max_iter=100, multi_class='warn',\n          n_jobs=None, penalty='l2', random_state=None, solver='lbfgs',\n          tol=0.0001, verbose=0, warm_start=False)"
                    },
                    "metadata": {}
                }
            ]
        },
        {
            "metadata": {},
            "cell_type": "code",
            "source": "LRyhat = LR.predict(X_test)\nLRyhat",
            "execution_count": 37,
            "outputs": [
                {
                    "output_type": "execute_result",
                    "execution_count": 37,
                    "data": {
                        "text/plain": "array([1, 1, 1, ..., 1, 1, 1])"
                    },
                    "metadata": {}
                }
            ]
        },
        {
            "metadata": {},
            "cell_type": "markdown",
            "source": "# Random-Forest Classifier:"
        },
        {
            "metadata": {},
            "cell_type": "code",
            "source": "from sklearn.ensemble import RandomForestClassifier\nfrom sklearn.metrics import accuracy_score\nclf=RandomForestClassifier(n_estimators=100)\nclf.fit(X_train,y_train)\ny_pred=clf.predict(X_test)\nacc=accuracy_score(y_test, y_pred)\nprint(\"[Randon forest algorithm] accuracy_score:\",(acc))",
            "execution_count": 38,
            "outputs": [
                {
                    "output_type": "stream",
                    "text": "[Randon forest algorithm] accuracy_score: 0.68589311146091\n",
                    "name": "stdout"
                }
            ]
        },
        {
            "metadata": {},
            "cell_type": "markdown",
            "source": "# Accuracy Metrics:"
        },
        {
            "metadata": {},
            "cell_type": "code",
            "source": "from sklearn.metrics import jaccard_similarity_score\nfrom sklearn.metrics import f1_score\nfrom sklearn.metrics import log_loss",
            "execution_count": 39,
            "outputs": []
        },
        {
            "metadata": {},
            "cell_type": "code",
            "source": "Jaccard = []\nF1_score = []\nLogLoss = []\n\nimport warnings\nwarnings.filterwarnings('ignore')\n\nKNNyhat = kNN_model.predict(X_test)\nprint(\"KNN Jaccard index: %.2f\" % jaccard_similarity_score(y_test, KNNyhat))\nJaccard.append(jaccard_similarity_score(y_test, KNNyhat))\nprint(\"KNN F1-score: %.2f\" % f1_score(y_test, KNNyhat, average='weighted') )\nF1_score.append(f1_score(y_test, KNNyhat, average='weighted',labels=np.unique(y_pred)))\nLogLoss.append('NA')\n\nDETyhat = DecTree.predict(X_test)\nprint(\"DT Jaccard index: %.2f\" % jaccard_similarity_score(y_test, DETyhat))\nJaccard.append(jaccard_similarity_score(y_test, DETyhat))\nprint(\"DT F1-score: %.2f\" % f1_score(y_test, DETyhat, average='weighted') )\nF1_score.append(f1_score(y_test, DETyhat, average='weighted',labels=np.unique(y_pred)))\nLogLoss.append('NA')\n\nSVMyhat = SVM.predict(X_test)\nprint(\"SVM Jaccard index: %.2f\" % jaccard_similarity_score(y_test, SVMyhat))\nJaccard.append(jaccard_similarity_score(y_test, SVMyhat))\nprint(\"SVM F1-score: %.2f\" % f1_score(y_test, SVMyhat, average='weighted') )\nF1_score.append( f1_score(y_test, SVMyhat, average='weighted',labels=np.unique(y_pred)))\nLogLoss.append('NA')\n\ny_pred = clf.predict(X_test)\nprint(\"KNN Jaccard index: %.2f\" % jaccard_similarity_score(y_test, y_pred))\nJaccard.append(jaccard_similarity_score(y_test, y_pred))\nprint(\"KNN F1-score: %.2f\" % f1_score(y_test, y_pred, average='weighted') )\nF1_score.append(f1_score(y_test, y_pred, average='weighted',labels=np.unique(y_pred)))\nLogLoss.append('NA')\n\nLRyhat = LR.predict(X_test)\nLR_yhat_prob = LR.predict_proba(X_test)\nprint(\"LR Jaccard index: %.2f\" % jaccard_similarity_score(y_test, LRyhat))\nJaccard.append(jaccard_similarity_score(y_test, LRyhat))\nprint(\"LR F1-score: %.2f\" % f1_score(y_test, LRyhat, average='weighted') )\nF1_score.append(f1_score(y_test, LRyhat, average='weighted',labels=np.unique(y_pred)))\nprint(\"LR LogLoss: %.2f\" % log_loss(y_test, LR_yhat_prob))\nLogLoss.append(log_loss(y_test, LR_yhat_prob))\n\nAlgorithm = ['KNN', 'Decision Tree','SVM','RandomForest','Logistic Regression']\nreport_cols = list(zip(Algorithm, Jaccard, F1_score, LogLoss))\nreport_col_names = ['Algorithm', 'Jaccard', 'F1-score', 'LogLoss']\nreport_df = pd.DataFrame(report_cols, columns = report_col_names)\nreport_df",
            "execution_count": 50,
            "outputs": [
                {
                    "output_type": "stream",
                    "text": "KNN Jaccard index: 0.69\nKNN F1-score: 0.56\nDT Jaccard index: 0.69\nDT F1-score: 0.56\nSVM Jaccard index: 0.69\nSVM F1-score: 0.56\nKNN Jaccard index: 0.69\nKNN F1-score: 0.56\nLR Jaccard index: 0.69\nLR F1-score: 0.56\nLR LogLoss: 0.62\n",
                    "name": "stdout"
                },
                {
                    "output_type": "execute_result",
                    "execution_count": 50,
                    "data": {
                        "text/plain": "             Algorithm   Jaccard  F1-score   LogLoss\n0                  KNN  0.685631  0.559609        NA\n1        Decision Tree  0.686043  0.558295        NA\n2                  SVM  0.685968  0.558398        NA\n3         RandomForest  0.685893  0.558431        NA\n4  Logistic Regression  0.686081  0.558383  0.620453",
                        "text/html": "<div>\n<style scoped>\n    .dataframe tbody tr th:only-of-type {\n        vertical-align: middle;\n    }\n\n    .dataframe tbody tr th {\n        vertical-align: top;\n    }\n\n    .dataframe thead th {\n        text-align: right;\n    }\n</style>\n<table border=\"1\" class=\"dataframe\">\n  <thead>\n    <tr style=\"text-align: right;\">\n      <th></th>\n      <th>Algorithm</th>\n      <th>Jaccard</th>\n      <th>F1-score</th>\n      <th>LogLoss</th>\n    </tr>\n  </thead>\n  <tbody>\n    <tr>\n      <th>0</th>\n      <td>KNN</td>\n      <td>0.685631</td>\n      <td>0.559609</td>\n      <td>NA</td>\n    </tr>\n    <tr>\n      <th>1</th>\n      <td>Decision Tree</td>\n      <td>0.686043</td>\n      <td>0.558295</td>\n      <td>NA</td>\n    </tr>\n    <tr>\n      <th>2</th>\n      <td>SVM</td>\n      <td>0.685968</td>\n      <td>0.558398</td>\n      <td>NA</td>\n    </tr>\n    <tr>\n      <th>3</th>\n      <td>RandomForest</td>\n      <td>0.685893</td>\n      <td>0.558431</td>\n      <td>NA</td>\n    </tr>\n    <tr>\n      <th>4</th>\n      <td>Logistic Regression</td>\n      <td>0.686081</td>\n      <td>0.558383</td>\n      <td>0.620453</td>\n    </tr>\n  </tbody>\n</table>\n</div>"
                    },
                    "metadata": {}
                }
            ]
        },
        {
            "metadata": {},
            "cell_type": "markdown",
            "source": "# Visualizing Important Features:"
        },
        {
            "metadata": {},
            "cell_type": "code",
            "source": "import seaborn as sns\nfeature_imp = pd.Series(DecTree.feature_importances_,index=X.columns).sort_values(ascending=False)\nk=10\nsns.barplot(x=feature_imp[:10], y=feature_imp.index[:k])\nplt.xlabel('Feature Importance Score')\nplt.ylabel('Features')\nplt.title(\"Visualizing Important Features\")\nplt.show()",
            "execution_count": 58,
            "outputs": [
                {
                    "output_type": "display_data",
                    "data": {
                        "text/plain": "<Figure size 432x288 with 1 Axes>",
                        "image/png": "[encoded data removed]"
                    },
                    "metadata": {
                        "needs_background": "light"
                    }
                }
            ]
        },
        {
            "metadata": {},
            "cell_type": "markdown",
            "source": "# (Evaluating human behavior impact):"
        },
        {
            "metadata": {},
            "cell_type": "code",
            "source": "df2 = pd.read_csv(\"https://s3.us.cloud-object-storage.appdomain.cloud/cf-courses-data/CognitiveClass/DP0701EN/version-2/Data-Collisions.csv\", low_memory=False)\ndf2.shape",
            "execution_count": 8,
            "outputs": [
                {
                    "output_type": "execute_result",
                    "execution_count": 8,
                    "data": {
                        "text/plain": "(194673, 38)"
                    },
                    "metadata": {}
                }
            ]
        },
        {
            "metadata": {},
            "cell_type": "code",
            "source": "# Dropping data where drivers are not drunk\ndf2['UNDERINFL'].replace(to_replace=['N','Y'], value=['0','1'],inplace=True)\nUnderinfl=df2[df2['UNDERINFL']=='0'].index\ndf2.drop(Underinfl,axis=0, inplace=True)\n# Dropping data where drivers are attentive\ninattentiond=df2[df2['INATTENTIONIND']==''].index\ndf2.drop(inattentiond,axis=0, inplace=True)\n# Dropping NAN in Weather & Light condition & Road Condition\ndf2.dropna(subset=['WEATHER','ROADCOND','LIGHTCOND'], axis=0, inplace=True)\ndf2.shape",
            "execution_count": 9,
            "outputs": [
                {
                    "output_type": "execute_result",
                    "execution_count": 9,
                    "data": {
                        "text/plain": "(9098, 38)"
                    },
                    "metadata": {}
                }
            ]
        },
        {
            "metadata": {},
            "cell_type": "code",
            "source": "# Dropping \"Unknown\" + \"Other\" records in Weather & Light condition & Road Condition\nWeather1= df2[df2['WEATHER']=='Unknown'].index\nWeather2= df2[df2['WEATHER']=='Other'].index\ndf2.drop(Weather1,axis=0, inplace=True)\ndf2.drop(Weather2,axis=0, inplace=True)\nlight1= df2[df2['LIGHTCOND']=='Unknown'].index\nlight2= df2[df2['LIGHTCOND']=='Other'].index\ndf2.drop(light1,axis=0, inplace=True)\ndf2.drop(light2,axis=0, inplace=True)\nroad1= df2[df2['ROADCOND']=='Unknown'].index\nroad2= df2[df2['ROADCOND']=='Other'].index\ndf2.drop(road1,axis=0, inplace=True)\ndf2.drop(road2,axis=0, inplace=True)\ndf2.shape",
            "execution_count": 10,
            "outputs": [
                {
                    "output_type": "execute_result",
                    "execution_count": 10,
                    "data": {
                        "text/plain": "(8980, 38)"
                    },
                    "metadata": {}
                }
            ]
        },
        {
            "metadata": {},
            "cell_type": "code",
            "source": "df2['WEATHER'].value_counts()",
            "execution_count": 23,
            "outputs": [
                {
                    "output_type": "execute_result",
                    "execution_count": 23,
                    "data": {
                        "text/plain": "Clear                       5737\nRaining                     1796\nOvercast                    1362\nFog/Smog/Smoke                45\nSnowing                       33\nSleet/Hail/Freezing Rain       4\nSevere Crosswind               2\nBlowing Sand/Dirt              1\nName: WEATHER, dtype: int64"
                    },
                    "metadata": {}
                }
            ]
        },
        {
            "metadata": {},
            "cell_type": "code",
            "source": "df2['LIGHTCOND'].value_counts()",
            "execution_count": 24,
            "outputs": [
                {
                    "output_type": "execute_result",
                    "execution_count": 24,
                    "data": {
                        "text/plain": "Dark - Street Lights On     6494\nDaylight                    1885\nDusk                         262\nDark - No Street Lights      139\nDark - Street Lights Off     127\nDawn                          73\nName: LIGHTCOND, dtype: int64"
                    },
                    "metadata": {}
                }
            ]
        },
        {
            "metadata": {
                "scrolled": true
            },
            "cell_type": "code",
            "source": "df2['ROADCOND'].value_counts()",
            "execution_count": 25,
            "outputs": [
                {
                    "output_type": "execute_result",
                    "execution_count": 25,
                    "data": {
                        "text/plain": "Dry               6282\nWet               2610\nSnow/Slush          44\nIce                 32\nSand/Mud/Dirt        6\nStanding Water       6\nName: ROADCOND, dtype: int64"
                    },
                    "metadata": {}
                }
            ]
        },
        {
            "metadata": {},
            "cell_type": "code",
            "source": "df2 = pd.read_csv(\"https://s3.us.cloud-object-storage.appdomain.cloud/cf-courses-data/CognitiveClass/DP0701EN/version-2/Data-Collisions.csv\", low_memory=False)\ndf2.shape",
            "execution_count": 23,
            "outputs": [
                {
                    "output_type": "execute_result",
                    "execution_count": 23,
                    "data": {
                        "text/plain": "(194673, 38)"
                    },
                    "metadata": {}
                }
            ]
        },
        {
            "metadata": {},
            "cell_type": "code",
            "source": "# Dropping data where drivers are attentive\ninattentiond=df2[df2['INATTENTIONIND']==''].index\ndf2.drop(inattentiond,axis=0, inplace=True)\n# Dropping NAN in Weather & Light condition & Road Condition\ndf2.dropna(subset=['WEATHER','ROADCOND','LIGHTCOND'], axis=0, inplace=True)\ndf2.shape",
            "execution_count": 9,
            "outputs": [
                {
                    "output_type": "execute_result",
                    "execution_count": 9,
                    "data": {
                        "text/plain": "(189337, 38)"
                    },
                    "metadata": {}
                }
            ]
        },
        {
            "metadata": {},
            "cell_type": "code",
            "source": "# Dropping \"Unknown\" + \"Other\" records in Weather & Light condition & Road Condition\nWeather1= df2[df2['WEATHER']=='Unknown'].index\nWeather2= df2[df2['WEATHER']=='Other'].index\ndf2.drop(Weather1,axis=0, inplace=True)\ndf2.drop(Weather2,axis=0, inplace=True)\nlight1= df2[df2['LIGHTCOND']=='Unknown'].index\nlight2= df2[df2['LIGHTCOND']=='Other'].index\ndf2.drop(light1,axis=0, inplace=True)\ndf2.drop(light2,axis=0, inplace=True)\nroad1= df2[df2['ROADCOND']=='Unknown'].index\nroad2= df2[df2['ROADCOND']=='Other'].index\ndf2.drop(road1,axis=0, inplace=True)\ndf2.drop(road2,axis=0, inplace=True)\ndf2.shape",
            "execution_count": 24,
            "outputs": [
                {
                    "output_type": "execute_result",
                    "execution_count": 24,
                    "data": {
                        "text/plain": "(175216, 38)"
                    },
                    "metadata": {}
                }
            ]
        },
        {
            "metadata": {},
            "cell_type": "code",
            "source": "# Dropping data where drivers are drunk\ndf2['UNDERINFL'].replace(to_replace=['N','Y'], value=['0','1'],inplace=True)\nUnderinfl=df2[df2['UNDERINFL']=='1'].index\ndf2.drop(Underinfl,axis=0, inplace=True)\n# Dropping data where drivers are inattentive\ninattentiond=df2[df2['INATTENTIONIND']=='Y'].index\ndf2.drop(inattentiond,axis=0, inplace=True)\ndf2.dropna(subset=['WEATHER','ROADCOND','LIGHTCOND'], axis=0, inplace=True)\ndf2.shape",
            "execution_count": 18,
            "outputs": [
                {
                    "output_type": "execute_result",
                    "execution_count": 18,
                    "data": {
                        "text/plain": "(151523, 38)"
                    },
                    "metadata": {}
                }
            ]
        },
        {
            "metadata": {},
            "cell_type": "code",
            "source": "df2['WEATHER'].value_counts()",
            "execution_count": 25,
            "outputs": [
                {
                    "output_type": "execute_result",
                    "execution_count": 25,
                    "data": {
                        "text/plain": "Clear                       108951\nRaining                      32676\nOvercast                     26954\nSnowing                        831\nFog/Smog/Smoke                 553\nSleet/Hail/Freezing Rain       107\nBlowing Sand/Dirt               47\nSevere Crosswind                25\nPartly Cloudy                    5\nName: WEATHER, dtype: int64"
                    },
                    "metadata": {}
                }
            ]
        },
        {
            "metadata": {},
            "cell_type": "code",
            "source": "df2['LIGHTCOND'].value_counts()",
            "execution_count": 26,
            "outputs": [
                {
                    "output_type": "execute_result",
                    "execution_count": 26,
                    "data": {
                        "text/plain": "Daylight                    112673\nDark - Street Lights On      46813\nDusk                          5661\nDawn                          2413\nDark - No Street Lights       1409\nDark - Street Lights Off      1120\nDark - Unknown Lighting          8\nName: LIGHTCOND, dtype: int64"
                    },
                    "metadata": {}
                }
            ]
        },
        {
            "metadata": {
                "scrolled": true
            },
            "cell_type": "code",
            "source": "df2['ROADCOND'].value_counts()",
            "execution_count": 27,
            "outputs": [
                {
                    "output_type": "execute_result",
                    "execution_count": 27,
                    "data": {
                        "text/plain": "Dry               121692\nWet                46378\nIce                 1083\nSnow/Slush           837\nStanding Water       105\nSand/Mud/Dirt         66\nOil                   60\nName: ROADCOND, dtype: int64"
                    },
                    "metadata": {}
                }
            ]
        },
        {
            "metadata": {},
            "cell_type": "code",
            "source": "",
            "execution_count": null,
            "outputs": []
        }
    ],
    "metadata": {
        "kernelspec": {
            "name": "python3",
            "display_name": "Python 3.6",
            "language": "python"
        },
        "language_info": {
            "name": "python",
            "version": "3.6.9",
            "mimetype": "text/x-python",
            "codemirror_mode": {
                "name": "ipython",
                "version": 3
            },
            "pygments_lexer": "ipython3",
            "nbconvert_exporter": "python",
            "file_extension": ".py"
        }
    },
    "nbformat": 4,
    "nbformat_minor": 1
}